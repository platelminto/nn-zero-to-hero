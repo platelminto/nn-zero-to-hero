{
 "cells": [
  {
   "cell_type": "code",
   "execution_count": 2,
   "metadata": {
    "collapsed": true,
    "ExecuteTime": {
     "start_time": "2023-04-02T18:34:34.165749Z",
     "end_time": "2023-04-02T18:34:36.840510Z"
    }
   },
   "outputs": [],
   "source": [
    "import torch\n",
    "import torch.nn.functional as F\n",
    "import matplotlib.pyplot as plt\n",
    "%matplotlib inline"
   ]
  },
  {
   "cell_type": "code",
   "execution_count": 3,
   "outputs": [
    {
     "data": {
      "text/plain": "['emma', 'olivia', 'ava', 'isabella', 'sophia', 'charlotte', 'mia', 'amelia']"
     },
     "execution_count": 3,
     "metadata": {},
     "output_type": "execute_result"
    }
   ],
   "source": [
    "words = open('../data/names.txt', 'r').read().splitlines()\n",
    "words[:8]"
   ],
   "metadata": {
    "collapsed": false,
    "ExecuteTime": {
     "start_time": "2023-04-02T18:34:36.836600Z",
     "end_time": "2023-04-02T18:34:36.876078Z"
    }
   }
  },
  {
   "cell_type": "code",
   "execution_count": 4,
   "outputs": [
    {
     "data": {
      "text/plain": "32033"
     },
     "execution_count": 4,
     "metadata": {},
     "output_type": "execute_result"
    }
   ],
   "source": [
    "len(words)"
   ],
   "metadata": {
    "collapsed": false,
    "ExecuteTime": {
     "start_time": "2023-04-02T18:34:36.839056Z",
     "end_time": "2023-04-02T18:34:36.877047Z"
    }
   }
  },
  {
   "cell_type": "code",
   "execution_count": 5,
   "outputs": [],
   "source": [
    "chars = ['.'] + sorted(list(set(''.join(words))))"
   ],
   "metadata": {
    "collapsed": false,
    "ExecuteTime": {
     "start_time": "2023-04-02T18:34:36.839337Z",
     "end_time": "2023-04-02T18:34:36.877384Z"
    }
   }
  },
  {
   "cell_type": "code",
   "execution_count": 6,
   "outputs": [],
   "source": [
    "stoi = {s:i for i, s in enumerate(chars)}\n",
    "itos = {i:s for s, i in stoi.items()}"
   ],
   "metadata": {
    "collapsed": false,
    "ExecuteTime": {
     "start_time": "2023-04-02T18:34:36.839653Z",
     "end_time": "2023-04-02T18:34:36.877646Z"
    }
   }
  },
  {
   "cell_type": "code",
   "execution_count": 180,
   "outputs": [],
   "source": [
    "# Good, fast-ish (couple minutes) results with 4, 15, 300, 128\n",
    "BLOCK_SIZE = 4\n",
    "EMBEDDING_DIMENSION = 30\n",
    "HIDDEN_LAYER_NEURONS = 120\n",
    "BATCH_SIZE = 200"
   ],
   "metadata": {
    "collapsed": false,
    "ExecuteTime": {
     "start_time": "2023-04-02T20:01:18.438925Z",
     "end_time": "2023-04-02T20:01:18.510635Z"
    }
   }
  },
  {
   "cell_type": "code",
   "execution_count": 8,
   "outputs": [],
   "source": [
    "# build the dataset\n",
    "\n",
    "block_size = BLOCK_SIZE  # context length: how many chars are we gonna use to predict the next?\n",
    "X, Y = [], []\n",
    "for w in words:\n",
    "    context = [0] * block_size\n",
    "    for ch in w + '.':\n",
    "        ix = stoi[ch]\n",
    "        X.append(context)\n",
    "        Y.append(ix)\n",
    "        context = context[1:] + [ix]\n",
    "\n",
    "X = torch.tensor(X)\n",
    "Y = torch.tensor(Y)"
   ],
   "metadata": {
    "collapsed": false,
    "ExecuteTime": {
     "start_time": "2023-04-02T18:34:36.863739Z",
     "end_time": "2023-04-02T18:34:37.867521Z"
    }
   }
  },
  {
   "cell_type": "code",
   "execution_count": 9,
   "outputs": [
    {
     "data": {
      "text/plain": "(torch.Size([228146, 4]), torch.int64, torch.Size([228146]), torch.int64)"
     },
     "execution_count": 9,
     "metadata": {},
     "output_type": "execute_result"
    }
   ],
   "source": [
    "X.shape, X.dtype, Y.shape, Y.dtype"
   ],
   "metadata": {
    "collapsed": false,
    "ExecuteTime": {
     "start_time": "2023-04-02T18:34:37.812720Z",
     "end_time": "2023-04-02T18:34:37.868380Z"
    }
   }
  },
  {
   "cell_type": "code",
   "execution_count": 10,
   "outputs": [
    {
     "name": "stdout",
     "output_type": "stream",
     "text": [
      "torch.Size([182625, 4]) torch.Size([182625])\n",
      "torch.Size([22655, 4]) torch.Size([22655])\n",
      "torch.Size([22866, 4]) torch.Size([22866])\n"
     ]
    }
   ],
   "source": [
    "# build the dataset\n",
    "\n",
    "def build_dataset(words):\n",
    "    block_size = BLOCK_SIZE  # context length: how many chars are we gonna use to predict the next?\n",
    "    X, Y = [], []\n",
    "    for w in words:\n",
    "        context = [0] * block_size\n",
    "        for ch in w + '.':\n",
    "            ix = stoi[ch]\n",
    "            X.append(context)\n",
    "            Y.append(ix)\n",
    "            context = context[1:] + [ix]\n",
    "\n",
    "    X = torch.tensor(X)\n",
    "    Y = torch.tensor(Y)\n",
    "    print(X.shape, Y.shape)\n",
    "    return X, Y\n",
    "\n",
    "import random\n",
    "random.seed(42)\n",
    "random.shuffle(words)\n",
    "n1 = int(0.8*len(words))\n",
    "n2 = int(0.9*len(words))\n",
    "\n",
    "Xtr, Ytr = build_dataset(words[:n1])\n",
    "Xdev, Ydev = build_dataset(words[n1:n2])\n",
    "Xte, Yte = build_dataset(words[n2:])"
   ],
   "metadata": {
    "collapsed": false,
    "ExecuteTime": {
     "start_time": "2023-04-02T18:34:37.820623Z",
     "end_time": "2023-04-02T18:34:38.678987Z"
    }
   }
  },
  {
   "cell_type": "code",
   "execution_count": 11,
   "outputs": [],
   "source": [
    "C = torch.randn(27, EMBEDDING_DIMENSION)"
   ],
   "metadata": {
    "collapsed": false,
    "ExecuteTime": {
     "start_time": "2023-04-02T18:34:38.681134Z",
     "end_time": "2023-04-02T18:34:38.810526Z"
    }
   }
  },
  {
   "cell_type": "code",
   "execution_count": 12,
   "outputs": [
    {
     "data": {
      "text/plain": "tensor([ 2.5699, -0.1919, -1.2358, -1.1476,  0.0893,  0.6888, -1.6017, -1.4940,\n         1.6630, -0.3498, -0.0027,  0.0618, -0.3013, -0.8605,  0.2623])"
     },
     "execution_count": 12,
     "metadata": {},
     "output_type": "execute_result"
    }
   ],
   "source": [
    "C[5]"
   ],
   "metadata": {
    "collapsed": false,
    "ExecuteTime": {
     "start_time": "2023-04-02T18:34:38.726935Z",
     "end_time": "2023-04-02T18:34:38.872029Z"
    }
   }
  },
  {
   "cell_type": "code",
   "execution_count": 13,
   "outputs": [
    {
     "data": {
      "text/plain": "torch.Size([228146, 4, 15])"
     },
     "execution_count": 13,
     "metadata": {},
     "output_type": "execute_result"
    }
   ],
   "source": [
    "emb = C[X]\n",
    "emb.shape"
   ],
   "metadata": {
    "collapsed": false,
    "ExecuteTime": {
     "start_time": "2023-04-02T18:34:38.727234Z",
     "end_time": "2023-04-02T18:34:38.874071Z"
    }
   }
  },
  {
   "cell_type": "code",
   "execution_count": 14,
   "outputs": [],
   "source": [
    "# 6 = 3*2. We are trying to create the hidden layer. It will have 6 inputs, since it will take in the\n",
    "# 3 characters, each embedded in a 2-dimensional vector. so like 'a' might be represented as\n",
    "# (-0.5, 0.12). We have 3, so that's 6 numbers that need to be connected into the hidden layer as\n",
    "# inputs.\n",
    "# We then have 100 neurons in this hidden layer - that's up to us. Hyperparameter.\n",
    "W1 = torch.randn((BLOCK_SIZE * EMBEDDING_DIMENSION, HIDDEN_LAYER_NEURONS))\n",
    "b1 = torch.randn(HIDDEN_LAYER_NEURONS)"
   ],
   "metadata": {
    "collapsed": false,
    "ExecuteTime": {
     "start_time": "2023-04-02T18:34:38.814293Z",
     "end_time": "2023-04-02T18:34:38.892829Z"
    }
   }
  },
  {
   "cell_type": "code",
   "execution_count": 15,
   "outputs": [],
   "source": [
    "# We want to do emb @ W1 + b1, but cannot since (32, 3, 2) can't matrix multiply by (6, 100).\n",
    "# We want to convert (32, 3, 2) into (32, 6) - essentially, concatenating the embeddings of the 3\n",
    "# characters into a list of 6 floats ('features'?)."
   ],
   "metadata": {
    "collapsed": false,
    "ExecuteTime": {
     "start_time": "2023-04-02T18:34:38.814525Z",
     "end_time": "2023-04-02T18:34:38.893286Z"
    }
   }
  },
  {
   "cell_type": "code",
   "execution_count": 16,
   "outputs": [],
   "source": [
    "# Think of unbind as looping through that dimension, returning its contents. So for input '..e',\n",
    "# which is at dimension 1, we get:\n",
    "# [embedding of '.', embedding of '.', embedding of 'e'].\n",
    "# With torch.cat, we then put them together. Since it is still per example (we still have dimension 0,\n",
    "# i.e. each row, i.e. each input), we specify to concat the dimension of these embeddings -\n",
    "# dimension 1 (of the unbinded tensor, which only has 2 dims)."
   ],
   "metadata": {
    "collapsed": false,
    "ExecuteTime": {
     "start_time": "2023-04-02T18:34:38.814735Z",
     "end_time": "2023-04-02T18:34:38.893559Z"
    }
   }
  },
  {
   "cell_type": "code",
   "execution_count": 17,
   "outputs": [
    {
     "data": {
      "text/plain": "(tensor([[-0.6505,  2.0504,  0.3965,  0.2614,  0.8845,  1.3129,  0.7236, -2.7266,\n          -0.5811, -1.7779, -1.1818,  0.0915,  1.8210,  1.5940, -0.3204]]),\n tensor([[-0.6505,  2.0504,  0.3965,  0.2614,  0.8845,  1.3129,  0.7236, -2.7266,\n          -0.5811, -1.7779, -1.1818,  0.0915,  1.8210,  1.5940, -0.3204]]),\n tensor([[-0.6505,  2.0504,  0.3965,  0.2614,  0.8845,  1.3129,  0.7236, -2.7266,\n          -0.5811, -1.7779, -1.1818,  0.0915,  1.8210,  1.5940, -0.3204]]),\n tensor([[ 2.5699, -0.1919, -1.2358, -1.1476,  0.0893,  0.6888, -1.6017, -1.4940,\n           1.6630, -0.3498, -0.0027,  0.0618, -0.3013, -0.8605,  0.2623]]))"
     },
     "execution_count": 17,
     "metadata": {},
     "output_type": "execute_result"
    }
   ],
   "source": [
    "torch.unbind(emb[1:2], dim=1)"
   ],
   "metadata": {
    "collapsed": false,
    "ExecuteTime": {
     "start_time": "2023-04-02T18:34:38.814859Z",
     "end_time": "2023-04-02T18:34:38.893855Z"
    }
   }
  },
  {
   "cell_type": "code",
   "execution_count": 18,
   "outputs": [
    {
     "data": {
      "text/plain": "torch.Size([228146, 60])"
     },
     "execution_count": 18,
     "metadata": {},
     "output_type": "execute_result"
    }
   ],
   "source": [
    "torch.cat(torch.unbind(emb, dim=1), dim=1).shape"
   ],
   "metadata": {
    "collapsed": false,
    "ExecuteTime": {
     "start_time": "2023-04-02T18:34:38.815055Z",
     "end_time": "2023-04-02T18:34:39.206845Z"
    }
   }
  },
  {
   "cell_type": "code",
   "execution_count": 19,
   "outputs": [],
   "source": [
    "# More simply, we can just directly ask pytorch to give us the tensor in a specific shape. Very\n",
    "# efficient."
   ],
   "metadata": {
    "collapsed": false,
    "ExecuteTime": {
     "start_time": "2023-04-02T18:34:38.860810Z",
     "end_time": "2023-04-02T18:34:39.207935Z"
    }
   }
  },
  {
   "cell_type": "code",
   "execution_count": 20,
   "outputs": [
    {
     "data": {
      "text/plain": "torch.Size([228146, 300])"
     },
     "execution_count": 20,
     "metadata": {},
     "output_type": "execute_result"
    }
   ],
   "source": [
    "h = torch.tanh(emb.view(-1, BLOCK_SIZE * EMBEDDING_DIMENSION) @ W1 + b1)\n",
    "h.shape"
   ],
   "metadata": {
    "collapsed": false,
    "ExecuteTime": {
     "start_time": "2023-04-02T18:34:38.887629Z",
     "end_time": "2023-04-02T18:34:39.414574Z"
    }
   }
  },
  {
   "cell_type": "code",
   "execution_count": 21,
   "outputs": [],
   "source": [
    "W2 = torch.randn((HIDDEN_LAYER_NEURONS, 27))\n",
    "b2 = torch.randn(27)"
   ],
   "metadata": {
    "collapsed": false,
    "ExecuteTime": {
     "start_time": "2023-04-02T18:34:39.412345Z",
     "end_time": "2023-04-02T18:34:39.421051Z"
    }
   }
  },
  {
   "cell_type": "code",
   "execution_count": 22,
   "outputs": [],
   "source": [
    "logits = h @ W2  + b2"
   ],
   "metadata": {
    "collapsed": false,
    "ExecuteTime": {
     "start_time": "2023-04-02T18:34:39.416870Z",
     "end_time": "2023-04-02T18:34:39.571829Z"
    }
   }
  },
  {
   "cell_type": "code",
   "execution_count": 23,
   "outputs": [
    {
     "data": {
      "text/plain": "torch.Size([228146, 27])"
     },
     "execution_count": 23,
     "metadata": {},
     "output_type": "execute_result"
    }
   ],
   "source": [
    "logits.shape"
   ],
   "metadata": {
    "collapsed": false,
    "ExecuteTime": {
     "start_time": "2023-04-02T18:34:39.514429Z",
     "end_time": "2023-04-02T18:34:39.572523Z"
    }
   }
  },
  {
   "cell_type": "code",
   "execution_count": 24,
   "outputs": [
    {
     "data": {
      "text/plain": "torch.Size([228146, 27])"
     },
     "execution_count": 24,
     "metadata": {},
     "output_type": "execute_result"
    }
   ],
   "source": [
    "counts = logits.exp()\n",
    "prob = counts / counts.sum(1, keepdims=True)\n",
    "prob.shape"
   ],
   "metadata": {
    "collapsed": false,
    "ExecuteTime": {
     "start_time": "2023-04-02T18:34:39.558554Z",
     "end_time": "2023-04-02T18:34:39.647218Z"
    }
   }
  },
  {
   "cell_type": "code",
   "execution_count": 126,
   "outputs": [],
   "source": [
    "def calc_loss(logits, labels, *weights):\n",
    "    # Haven't figured out regularisation working.\n",
    "    # print(sum((w**2).sum() for w in weights))\n",
    "    # print(0.0001*(sum((w**2).sum() for w in weights)))\n",
    "    # print(F.cross_entropy(logits, labels))\n",
    "    return F.cross_entropy(logits, labels) # + 0.0001*(sum((w**2).sum() for w in weights))"
   ],
   "metadata": {
    "collapsed": false,
    "ExecuteTime": {
     "start_time": "2023-04-02T19:38:50.328595Z",
     "end_time": "2023-04-02T19:38:50.347192Z"
    }
   }
  },
  {
   "cell_type": "code",
   "execution_count": 60,
   "outputs": [],
   "source": [
    "def calc_logits(emb, W1, W2, b1, b2, Wdirect):\n",
    "    x = emb.view(-1, BLOCK_SIZE * EMBEDDING_DIMENSION)\n",
    "    h = torch.tanh(x @ W1 + b1)\n",
    "    return h @ W2 + b2 + x @ Wdirect"
   ],
   "metadata": {
    "collapsed": false,
    "ExecuteTime": {
     "start_time": "2023-04-02T18:51:02.381641Z",
     "end_time": "2023-04-02T18:51:02.407703Z"
    }
   }
  },
  {
   "cell_type": "code",
   "execution_count": 27,
   "outputs": [
    {
     "data": {
      "text/plain": "(torch.Size([182625, 4]), torch.Size([182625]))"
     },
     "execution_count": 27,
     "metadata": {},
     "output_type": "execute_result"
    }
   ],
   "source": [
    "Xtr.shape, Ytr.shape"
   ],
   "metadata": {
    "collapsed": false,
    "ExecuteTime": {
     "start_time": "2023-04-02T18:35:37.196388Z",
     "end_time": "2023-04-02T18:35:37.213326Z"
    }
   }
  },
  {
   "cell_type": "code",
   "execution_count": 181,
   "outputs": [],
   "source": [
    "g = torch.Generator().manual_seed(11219391)\n",
    "C = torch.randn(27, EMBEDDING_DIMENSION, generator=g)\n",
    "W1 = torch.randn((BLOCK_SIZE * EMBEDDING_DIMENSION, HIDDEN_LAYER_NEURONS), generator=g)\n",
    "b1 = torch.zeros(HIDDEN_LAYER_NEURONS)\n",
    "W2 = torch.randn((HIDDEN_LAYER_NEURONS, 27), generator=g)\n",
    "b2 = torch.zeros(27)\n",
    "Wdirect = torch.randn((BLOCK_SIZE * EMBEDDING_DIMENSION, 27), generator=g)\n",
    "parameters = [C, W1, b1, W2, b2, Wdirect]"
   ],
   "metadata": {
    "collapsed": false,
    "ExecuteTime": {
     "start_time": "2023-04-02T20:01:23.196442Z",
     "end_time": "2023-04-02T20:01:23.243182Z"
    }
   }
  },
  {
   "cell_type": "code",
   "execution_count": 182,
   "outputs": [
    {
     "data": {
      "text/plain": "21837"
     },
     "execution_count": 182,
     "metadata": {},
     "output_type": "execute_result"
    }
   ],
   "source": [
    "sum(p.nelement() for p in parameters)"
   ],
   "metadata": {
    "collapsed": false,
    "ExecuteTime": {
     "start_time": "2023-04-02T20:01:23.537718Z",
     "end_time": "2023-04-02T20:01:23.582089Z"
    }
   }
  },
  {
   "cell_type": "code",
   "execution_count": 183,
   "outputs": [],
   "source": [
    "for p in parameters:\n",
    "    p.requires_grad = True"
   ],
   "metadata": {
    "collapsed": false,
    "ExecuteTime": {
     "start_time": "2023-04-02T20:01:24.104911Z",
     "end_time": "2023-04-02T20:01:24.111311Z"
    }
   }
  },
  {
   "cell_type": "code",
   "execution_count": 184,
   "outputs": [],
   "source": [
    "lre = torch.linspace(-3, 0, 1000)  # learning rate exponent\n",
    "lrs = 10**lre"
   ],
   "metadata": {
    "collapsed": false,
    "ExecuteTime": {
     "start_time": "2023-04-02T20:01:24.389066Z",
     "end_time": "2023-04-02T20:01:24.441946Z"
    }
   }
  },
  {
   "cell_type": "code",
   "execution_count": 185,
   "outputs": [],
   "source": [
    "lri = []\n",
    "lossi = []\n",
    "stepi = []"
   ],
   "metadata": {
    "collapsed": false,
    "ExecuteTime": {
     "start_time": "2023-04-02T20:01:24.839661Z",
     "end_time": "2023-04-02T20:01:24.885069Z"
    }
   }
  },
  {
   "cell_type": "code",
   "execution_count": 186,
   "outputs": [
    {
     "name": "stdout",
     "output_type": "stream",
     "text": [
      "C.shape=torch.Size([27, 30])\n",
      "Xtr.shape=torch.Size([182625, 4])\n",
      "torch.randint(0, Xtr.shape[0], (BATCH_SIZE,)).shape=torch.Size([200])\n",
      "Xtr[torch.randint(0, Xtr.shape[0], (BATCH_SIZE,))].shape=torch.Size([200, 4])\n",
      "C[Xtr[torch.randint(0, Xtr.shape[0], (BATCH_SIZE,))]].shape=torch.Size([200, 4, 30])\n"
     ]
    }
   ],
   "source": [
    "print(f'{C.shape=}')\n",
    "print(f'{Xtr.shape=}')\n",
    "print(f'{torch.randint(0, Xtr.shape[0], (BATCH_SIZE,)).shape=}')\n",
    "print(f'{Xtr[torch.randint(0, Xtr.shape[0], (BATCH_SIZE,))].shape=}')\n",
    "print(f'{C[Xtr[torch.randint(0, Xtr.shape[0], (BATCH_SIZE,))]].shape=}')\n"
   ],
   "metadata": {
    "collapsed": false,
    "ExecuteTime": {
     "start_time": "2023-04-02T20:01:25.195296Z",
     "end_time": "2023-04-02T20:01:25.245691Z"
    }
   }
  },
  {
   "cell_type": "code",
   "execution_count": 187,
   "outputs": [],
   "source": [
    "STEPS = 150000\n",
    "FIRST_RUN = True\n",
    "for i in range(STEPS):\n",
    "\n",
    "    # minibatch\n",
    "    ix = torch.randint(0, Xtr.shape[0], (BATCH_SIZE,))\n",
    "\n",
    "    # forward pass\n",
    "    emb = C[Xtr[ix]]  # (32, 3, 2). 32 (BATCH_SIZE) examples, 3 letters per example, embedded in 2-dimensional vector\n",
    "    logits = calc_logits(emb, W1, W2, b1, b2, Wdirect)\n",
    "    loss = calc_loss(logits, Ytr[ix], W1, W2, Wdirect)\n",
    "\n",
    "    # backward pass\n",
    "    for p in parameters:\n",
    "        p.grad = None\n",
    "    loss.backward()\n",
    "\n",
    "    # update\n",
    "    # lr = lrs[i]\n",
    "    lr = 0.1\n",
    "    if not FIRST_RUN or i > STEPS/2:\n",
    "        lr = 0.01\n",
    "    for p in parameters:\n",
    "        p.data += -lr * p.grad\n",
    "\n",
    "    # track stats\n",
    "    # lri.append(lre[i])\n",
    "    # stepi.append(i)\n",
    "    # lossi.append(loss.log10().item())"
   ],
   "metadata": {
    "collapsed": false,
    "ExecuteTime": {
     "start_time": "2023-04-02T20:01:25.744513Z",
     "end_time": "2023-04-02T20:03:35.258616Z"
    }
   }
  },
  {
   "cell_type": "code",
   "execution_count": 188,
   "outputs": [
    {
     "data": {
      "text/plain": "2.080101251602173"
     },
     "execution_count": 188,
     "metadata": {},
     "output_type": "execute_result"
    }
   ],
   "source": [
    "emb = C[Xtr]\n",
    "logits = calc_logits(emb, W1, W2, b1, b2, Wdirect)\n",
    "loss = calc_loss(logits, Ytr, W1, W2, Wdirect)\n",
    "\n",
    "loss.item()"
   ],
   "metadata": {
    "collapsed": false,
    "ExecuteTime": {
     "start_time": "2023-04-02T20:03:50.809719Z",
     "end_time": "2023-04-02T20:03:51.048746Z"
    }
   }
  },
  {
   "cell_type": "code",
   "execution_count": 189,
   "outputs": [
    {
     "data": {
      "text/plain": "2.1193809509277344"
     },
     "execution_count": 189,
     "metadata": {},
     "output_type": "execute_result"
    }
   ],
   "source": [
    "emb = C[Xdev]\n",
    "logits = calc_logits(emb, W1, W2, b1, b2, Wdirect)\n",
    "loss = calc_loss(logits, Ydev, W1, W2, Wdirect)\n",
    "\n",
    "loss.item()  # beat 2.17 yay already done"
   ],
   "metadata": {
    "collapsed": false,
    "ExecuteTime": {
     "start_time": "2023-04-02T20:03:52.264501Z",
     "end_time": "2023-04-02T20:03:52.310747Z"
    }
   }
  },
  {
   "cell_type": "code",
   "execution_count": 422,
   "outputs": [
    {
     "data": {
      "text/plain": "[<matplotlib.lines.Line2D at 0x7f66f4d6ced0>]"
     },
     "execution_count": 422,
     "metadata": {},
     "output_type": "execute_result"
    },
    {
     "data": {
      "text/plain": "<Figure size 640x480 with 1 Axes>",
      "image/png": "[encoded data removed]"
     },
     "metadata": {},
     "output_type": "display_data"
    }
   ],
   "source": [
    "plt.plot(stepi, lossi)"
   ],
   "metadata": {
    "collapsed": false
   }
  },
  {
   "cell_type": "code",
   "execution_count": 115,
   "outputs": [
    {
     "name": "stdout",
     "output_type": "stream",
     "text": [
      "oluels.\n",
      "antrejanis.\n",
      "lureevontelik.\n",
      "iruntxon.\n",
      "ronard.\n",
      "roe.\n",
      "oru.\n",
      "rumus.\n",
      "orron.\n",
      "roncee.\n",
      "kryncer.\n",
      "roanralinir.\n",
      "ron.\n",
      "rungirikk.\n",
      "luveer.\n",
      "veles.\n",
      "roxteelley.\n",
      "rivos.\n",
      "korgy.\n",
      "yrunni.\n"
     ]
    }
   ],
   "source": [
    "for _ in range(20):\n",
    "    out = []\n",
    "    context = [0] * block_size\n",
    "    while True:\n",
    "        emb = C[torch.tensor(context)]\n",
    "        h = torch.tanh(emb.view(1, -1) @ W1 + b1)\n",
    "        logits = h @ W2 + b2\n",
    "        probs = F.softmax(logits, dim=1)\n",
    "        ix = torch.multinomial(probs, num_samples=1, generator=g).item()\n",
    "        context = context[1:] + [ix]\n",
    "        out.append(ix)\n",
    "        if ix == 0:\n",
    "            break\n",
    "\n",
    "    print(''.join(itos[i] for i in out))"
   ],
   "metadata": {
    "collapsed": false,
    "ExecuteTime": {
     "start_time": "2023-04-02T19:29:16.644208Z",
     "end_time": "2023-04-02T19:29:16.680406Z"
    }
   }
  },
  {
   "cell_type": "code",
   "execution_count": null,
   "outputs": [],
   "source": [
    "# Something to remember: when we roll our own logits->exp->probs, high positive numbers in the logits\n",
    "# will cause issues, since e.g. e^100 is way too big (becomes inf). The way to fix this, and what\n",
    "# pytorch does, is to subtract the higher number from every number in the logits, causing all of them\n",
    "# to be 0 or lower. Negative numbers exponentiated are always fine (just small fractions, unless\n",
    "# reallllly small ig). This subtraction does nothing to the end probabilities though - they're\n",
    "# unaffected (maths probs checks out, haven't done it)"
   ],
   "metadata": {
    "collapsed": false
   }
  }
 ],
 "metadata": {
  "kernelspec": {
   "display_name": "Python 3",
   "language": "python",
   "name": "python3"
  },
  "language_info": {
   "codemirror_mode": {
    "name": "ipython",
    "version": 2
   },
   "file_extension": ".py",
   "mimetype": "text/x-python",
   "name": "python",
   "nbconvert_exporter": "python",
   "pygments_lexer": "ipython2",
   "version": "2.7.6"
  }
 },
 "nbformat": 4,
 "nbformat_minor": 0
}
